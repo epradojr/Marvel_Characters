{
 "cells": [
  {
   "cell_type": "markdown",
   "metadata": {},
   "source": [
    "I will be performing a exploratory data analysis on Marvel character data. The goal of this analyis is to practice developed skills and profile the data."
   ]
  },
  {
   "cell_type": "code",
   "execution_count": 1,
   "metadata": {},
   "outputs": [],
   "source": [
    "# importing libraries for EDA\n",
    "import pandas as pd\n",
    "import numpy as np\n"
   ]
  },
  {
   "cell_type": "code",
   "execution_count": 6,
   "metadata": {},
   "outputs": [
    {
     "data": {
      "text/html": [
       "<div>\n",
       "<style scoped>\n",
       "    .dataframe tbody tr th:only-of-type {\n",
       "        vertical-align: middle;\n",
       "    }\n",
       "\n",
       "    .dataframe tbody tr th {\n",
       "        vertical-align: top;\n",
       "    }\n",
       "\n",
       "    .dataframe thead th {\n",
       "        text-align: right;\n",
       "    }\n",
       "</style>\n",
       "<table border=\"1\" class=\"dataframe\">\n",
       "  <thead>\n",
       "    <tr style=\"text-align: right;\">\n",
       "      <th></th>\n",
       "      <th>char</th>\n",
       "      <th>charname</th>\n",
       "      <th>birthname</th>\n",
       "      <th>types</th>\n",
       "      <th>universes</th>\n",
       "      <th>birthplace</th>\n",
       "      <th>superpowers</th>\n",
       "      <th>religions</th>\n",
       "      <th>gender</th>\n",
       "      <th>occupation</th>\n",
       "      <th>memberof</th>\n",
       "    </tr>\n",
       "    <tr>\n",
       "      <th>index</th>\n",
       "      <th></th>\n",
       "      <th></th>\n",
       "      <th></th>\n",
       "      <th></th>\n",
       "      <th></th>\n",
       "      <th></th>\n",
       "      <th></th>\n",
       "      <th></th>\n",
       "      <th></th>\n",
       "      <th></th>\n",
       "      <th></th>\n",
       "    </tr>\n",
       "  </thead>\n",
       "  <tbody>\n",
       "    <tr>\n",
       "      <th>0</th>\n",
       "      <td>http://www.wikidata.org/entity/Q18754954</td>\n",
       "      <td>Silk</td>\n",
       "      <td>Cindy Moon</td>\n",
       "      <td>mutate, comics character</td>\n",
       "      <td>Earth-616, Marvel Universe</td>\n",
       "      <td>NaN</td>\n",
       "      <td>superhuman agility / reflexes, superhuman dura...</td>\n",
       "      <td>NaN</td>\n",
       "      <td>NaN</td>\n",
       "      <td>NaN</td>\n",
       "      <td>NaN</td>\n",
       "    </tr>\n",
       "    <tr>\n",
       "      <th>1</th>\n",
       "      <td>http://www.wikidata.org/entity/Q3127430</td>\n",
       "      <td>Snowbird</td>\n",
       "      <td>Narya</td>\n",
       "      <td>demigod or quasi-deity in a work of fiction, c...</td>\n",
       "      <td>Marvel Universe</td>\n",
       "      <td>NaN</td>\n",
       "      <td>flight, shapeshifting, superhuman strength, re...</td>\n",
       "      <td>NaN</td>\n",
       "      <td>NaN</td>\n",
       "      <td>NaN</td>\n",
       "      <td>NaN</td>\n",
       "    </tr>\n",
       "    <tr>\n",
       "      <th>2</th>\n",
       "      <td>http://www.wikidata.org/entity/Q546340</td>\n",
       "      <td>Thunderbird</td>\n",
       "      <td>John Proudstar</td>\n",
       "      <td>television character, animated character, mutant</td>\n",
       "      <td>Marvel Universe</td>\n",
       "      <td>NaN</td>\n",
       "      <td>superhuman durability, superhuman speed, super...</td>\n",
       "      <td>NaN</td>\n",
       "      <td>NaN</td>\n",
       "      <td>NaN</td>\n",
       "      <td>NaN</td>\n",
       "    </tr>\n",
       "    <tr>\n",
       "      <th>3</th>\n",
       "      <td>http://www.wikidata.org/entity/Q1194236</td>\n",
       "      <td>Cannonball</td>\n",
       "      <td>Samuel Zachery Guthrie</td>\n",
       "      <td>superhero film character, animated character, ...</td>\n",
       "      <td>Earth-616, Marvel Universe</td>\n",
       "      <td>NaN</td>\n",
       "      <td>thermo-chemical energy</td>\n",
       "      <td>NaN</td>\n",
       "      <td>NaN</td>\n",
       "      <td>NaN</td>\n",
       "      <td>NaN</td>\n",
       "    </tr>\n",
       "    <tr>\n",
       "      <th>4</th>\n",
       "      <td>http://www.wikidata.org/entity/Q2087326</td>\n",
       "      <td>Shriek</td>\n",
       "      <td>Frances Louise Barrison</td>\n",
       "      <td>film character, comics character</td>\n",
       "      <td>Marvel Universe</td>\n",
       "      <td>NaN</td>\n",
       "      <td>sonic scream</td>\n",
       "      <td>NaN</td>\n",
       "      <td>NaN</td>\n",
       "      <td>NaN</td>\n",
       "      <td>NaN</td>\n",
       "    </tr>\n",
       "    <tr>\n",
       "      <th>...</th>\n",
       "      <td>...</td>\n",
       "      <td>...</td>\n",
       "      <td>...</td>\n",
       "      <td>...</td>\n",
       "      <td>...</td>\n",
       "      <td>...</td>\n",
       "      <td>...</td>\n",
       "      <td>...</td>\n",
       "      <td>...</td>\n",
       "      <td>...</td>\n",
       "      <td>...</td>\n",
       "    </tr>\n",
       "    <tr>\n",
       "      <th>132</th>\n",
       "      <td>http://www.wikidata.org/entity/Q2275950</td>\n",
       "      <td>Shatterstar</td>\n",
       "      <td>Gaveedra Seven</td>\n",
       "      <td>superhero film character, mutant</td>\n",
       "      <td>Mojoverse, Earth-616, Marvel Universe</td>\n",
       "      <td>NaN</td>\n",
       "      <td>superhuman agility / reflexes, superhuman dura...</td>\n",
       "      <td>NaN</td>\n",
       "      <td>NaN</td>\n",
       "      <td>NaN</td>\n",
       "      <td>NaN</td>\n",
       "    </tr>\n",
       "    <tr>\n",
       "      <th>133</th>\n",
       "      <td>http://www.wikidata.org/entity/Q3453575</td>\n",
       "      <td>Rusty Collins</td>\n",
       "      <td>Russell Collins</td>\n",
       "      <td>superhero film character, animated character, ...</td>\n",
       "      <td>Marvel Universe</td>\n",
       "      <td>NaN</td>\n",
       "      <td>pyrokinesis</td>\n",
       "      <td>NaN</td>\n",
       "      <td>NaN</td>\n",
       "      <td>NaN</td>\n",
       "      <td>NaN</td>\n",
       "    </tr>\n",
       "    <tr>\n",
       "      <th>134</th>\n",
       "      <td>http://www.wikidata.org/entity/Q865017</td>\n",
       "      <td>Mister Fantastic</td>\n",
       "      <td>Reed Richards</td>\n",
       "      <td>film character, animated character, mutate</td>\n",
       "      <td>Earth-616, Marvel Universe</td>\n",
       "      <td>NaN</td>\n",
       "      <td>elasticity</td>\n",
       "      <td>NaN</td>\n",
       "      <td>NaN</td>\n",
       "      <td>NaN</td>\n",
       "      <td>NaN</td>\n",
       "    </tr>\n",
       "    <tr>\n",
       "      <th>135</th>\n",
       "      <td>http://www.wikidata.org/entity/Q616633</td>\n",
       "      <td>Betty Ross</td>\n",
       "      <td>Elizabeth Ross</td>\n",
       "      <td>gamma mutate, superhero film character, harpy ...</td>\n",
       "      <td>Marvel Universe</td>\n",
       "      <td>NaN</td>\n",
       "      <td>superhuman durability, superhuman speed, super...</td>\n",
       "      <td>NaN</td>\n",
       "      <td>NaN</td>\n",
       "      <td>NaN</td>\n",
       "      <td>NaN</td>\n",
       "    </tr>\n",
       "    <tr>\n",
       "      <th>136</th>\n",
       "      <td>http://www.wikidata.org/entity/Q838088</td>\n",
       "      <td>Iceman</td>\n",
       "      <td>Robert Louis Drake</td>\n",
       "      <td>superhero film character, animated character, ...</td>\n",
       "      <td>Earth-616, Marvel Universe</td>\n",
       "      <td>NaN</td>\n",
       "      <td>cryokinesis</td>\n",
       "      <td>NaN</td>\n",
       "      <td>NaN</td>\n",
       "      <td>NaN</td>\n",
       "      <td>NaN</td>\n",
       "    </tr>\n",
       "  </tbody>\n",
       "</table>\n",
       "<p>137 rows × 11 columns</p>\n",
       "</div>"
      ],
      "text/plain": [
       "                                           char          charname  \\\n",
       "index                                                               \n",
       "0      http://www.wikidata.org/entity/Q18754954              Silk   \n",
       "1       http://www.wikidata.org/entity/Q3127430          Snowbird   \n",
       "2        http://www.wikidata.org/entity/Q546340       Thunderbird   \n",
       "3       http://www.wikidata.org/entity/Q1194236        Cannonball   \n",
       "4       http://www.wikidata.org/entity/Q2087326            Shriek   \n",
       "...                                         ...               ...   \n",
       "132     http://www.wikidata.org/entity/Q2275950       Shatterstar   \n",
       "133     http://www.wikidata.org/entity/Q3453575     Rusty Collins   \n",
       "134      http://www.wikidata.org/entity/Q865017  Mister Fantastic   \n",
       "135      http://www.wikidata.org/entity/Q616633        Betty Ross   \n",
       "136      http://www.wikidata.org/entity/Q838088            Iceman   \n",
       "\n",
       "                     birthname  \\\n",
       "index                            \n",
       "0                   Cindy Moon   \n",
       "1                        Narya   \n",
       "2               John Proudstar   \n",
       "3       Samuel Zachery Guthrie   \n",
       "4      Frances Louise Barrison   \n",
       "...                        ...   \n",
       "132             Gaveedra Seven   \n",
       "133            Russell Collins   \n",
       "134              Reed Richards   \n",
       "135             Elizabeth Ross   \n",
       "136         Robert Louis Drake   \n",
       "\n",
       "                                                   types  \\\n",
       "index                                                      \n",
       "0                               mutate, comics character   \n",
       "1      demigod or quasi-deity in a work of fiction, c...   \n",
       "2       television character, animated character, mutant   \n",
       "3      superhero film character, animated character, ...   \n",
       "4                       film character, comics character   \n",
       "...                                                  ...   \n",
       "132                     superhero film character, mutant   \n",
       "133    superhero film character, animated character, ...   \n",
       "134           film character, animated character, mutate   \n",
       "135    gamma mutate, superhero film character, harpy ...   \n",
       "136    superhero film character, animated character, ...   \n",
       "\n",
       "                                   universes birthplace  \\\n",
       "index                                                     \n",
       "0                 Earth-616, Marvel Universe        NaN   \n",
       "1                            Marvel Universe        NaN   \n",
       "2                            Marvel Universe        NaN   \n",
       "3                 Earth-616, Marvel Universe        NaN   \n",
       "4                            Marvel Universe        NaN   \n",
       "...                                      ...        ...   \n",
       "132    Mojoverse, Earth-616, Marvel Universe        NaN   \n",
       "133                          Marvel Universe        NaN   \n",
       "134               Earth-616, Marvel Universe        NaN   \n",
       "135                          Marvel Universe        NaN   \n",
       "136               Earth-616, Marvel Universe        NaN   \n",
       "\n",
       "                                             superpowers religions gender  \\\n",
       "index                                                                       \n",
       "0      superhuman agility / reflexes, superhuman dura...       NaN    NaN   \n",
       "1      flight, shapeshifting, superhuman strength, re...       NaN    NaN   \n",
       "2      superhuman durability, superhuman speed, super...       NaN    NaN   \n",
       "3                                 thermo-chemical energy       NaN    NaN   \n",
       "4                                           sonic scream       NaN    NaN   \n",
       "...                                                  ...       ...    ...   \n",
       "132    superhuman agility / reflexes, superhuman dura...       NaN    NaN   \n",
       "133                                          pyrokinesis       NaN    NaN   \n",
       "134                                           elasticity       NaN    NaN   \n",
       "135    superhuman durability, superhuman speed, super...       NaN    NaN   \n",
       "136                                          cryokinesis       NaN    NaN   \n",
       "\n",
       "      occupation memberof  \n",
       "index                      \n",
       "0            NaN      NaN  \n",
       "1            NaN      NaN  \n",
       "2            NaN      NaN  \n",
       "3            NaN      NaN  \n",
       "4            NaN      NaN  \n",
       "...          ...      ...  \n",
       "132          NaN      NaN  \n",
       "133          NaN      NaN  \n",
       "134          NaN      NaN  \n",
       "135          NaN      NaN  \n",
       "136          NaN      NaN  \n",
       "\n",
       "[137 rows x 11 columns]"
      ]
     },
     "execution_count": 6,
     "metadata": {},
     "output_type": "execute_result"
    }
   ],
   "source": [
    "# Loading in my data\n",
    "\n",
    "df = pd.read_csv('data\\characters.csv',index_col=0 )\n",
    "df"
   ]
  },
  {
   "cell_type": "markdown",
   "metadata": {},
   "source": [
    "I see that I have 137 rows and 11 columns to work with. I'll make note of this to make sure I'm getting the output I'm asking for in the next few lines of code.\n",
    "\n",
    "Lets check out if we have any null values and the data types of each column"
   ]
  },
  {
   "cell_type": "code",
   "execution_count": 8,
   "metadata": {},
   "outputs": [
    {
     "name": "stdout",
     "output_type": "stream",
     "text": [
      "<class 'pandas.core.frame.DataFrame'>\n",
      "Int64Index: 137 entries, 0 to 136\n",
      "Data columns (total 11 columns):\n",
      " #   Column       Non-Null Count  Dtype \n",
      "---  ------       --------------  ----- \n",
      " 0   char         137 non-null    object\n",
      " 1   charname     137 non-null    object\n",
      " 2   birthname    137 non-null    object\n",
      " 3   types        137 non-null    object\n",
      " 4   universes    137 non-null    object\n",
      " 5   birthplace   6 non-null      object\n",
      " 6   superpowers  137 non-null    object\n",
      " 7   religions    6 non-null      object\n",
      " 8   gender       6 non-null      object\n",
      " 9   occupation   6 non-null      object\n",
      " 10  memberof     6 non-null      object\n",
      "dtypes: object(11)\n",
      "memory usage: 12.8+ KB\n"
     ]
    }
   ],
   "source": [
    "# Checking to see what datatypes im working with, if there are \n",
    "# any null values, and how much data I have.\n",
    "df.info()"
   ]
  },
  {
   "cell_type": "markdown",
   "metadata": {},
   "source": [
    "Right away, I see that the following columns do not provide enough information.\n",
    "\n",
    "Columns: birthplace, religions. gender, occupation, memberof\n",
    "\n",
    "I don't see a need to drop anything just yet, but it's good to see what I do and don't have. Lets check if we have any duplicate records that I need to be aware of."
   ]
  },
  {
   "cell_type": "code",
   "execution_count": 51,
   "metadata": {},
   "outputs": [
    {
     "data": {
      "text/plain": [
       "False"
      ]
     },
     "execution_count": 51,
     "metadata": {},
     "output_type": "execute_result"
    }
   ],
   "source": [
    "# check for duplicate records\n",
    "df.duplicated().any()"
   ]
  },
  {
   "cell_type": "markdown",
   "metadata": {},
   "source": [
    "Good. There doesn't seem be any duplicate records. I wonder if we have any duplicates in the columns themselves. I'll make a functions that goes through each column and finds duplicates within said column. It a bit over kill, but it will better cement the skills I have. Practice, pracitce, practice!"
   ]
  },
  {
   "cell_type": "code",
   "execution_count": 52,
   "metadata": {},
   "outputs": [],
   "source": [
    "# checking for any duplicates\n",
    "\n",
    "def col_dup_check(dataframe):\n",
    "    \"\"\"\n",
    "    Checks each column within a dataframe for \n",
    "    duplicates within said column.\n",
    "\n",
    "    Arguments:\n",
    "        dataframe: a dataframe\n",
    "    Returns:\n",
    "        A dataframe stating which columns have \n",
    "        duplicates within themselves    \n",
    "    \"\"\"\n",
    "    # creating a dataframe to hold the results\n",
    "    dup_table = pd.DataFrame()\n",
    "\n",
    "    # Iterating through the dataframes columns and checking if any \n",
    "    # have duplicates within themselves. The results are placed in \n",
    "    # the dup_table\n",
    "    for column in list(dataframe.columns.values):\n",
    "        if dataframe.duplicated(subset=column).any() == True:\n",
    "            dup_table[column]=['yes']\n",
    "\n",
    "        elif dataframe.duplicated(subset=column).all() == False:\n",
    "            dup_table[column]=['no']\n",
    "\n",
    "        # in case something goes wrong or my intention is not met, \n",
    "        # I added a way for the system to flag me.\n",
    "        else:\n",
    "            print('not working')\n",
    "    \n",
    "    return(dup_table)\n",
    "\n",
    "        \n",
    "#df[df.duplicated(subset='charname')]"
   ]
  },
  {
   "cell_type": "code",
   "execution_count": 53,
   "metadata": {},
   "outputs": [
    {
     "data": {
      "text/html": [
       "<div>\n",
       "<style scoped>\n",
       "    .dataframe tbody tr th:only-of-type {\n",
       "        vertical-align: middle;\n",
       "    }\n",
       "\n",
       "    .dataframe tbody tr th {\n",
       "        vertical-align: top;\n",
       "    }\n",
       "\n",
       "    .dataframe thead th {\n",
       "        text-align: right;\n",
       "    }\n",
       "</style>\n",
       "<table border=\"1\" class=\"dataframe\">\n",
       "  <thead>\n",
       "    <tr style=\"text-align: right;\">\n",
       "      <th></th>\n",
       "      <th>char</th>\n",
       "      <th>charname</th>\n",
       "      <th>birthname</th>\n",
       "      <th>types</th>\n",
       "      <th>universes</th>\n",
       "      <th>birthplace</th>\n",
       "      <th>superpowers</th>\n",
       "      <th>religions</th>\n",
       "      <th>gender</th>\n",
       "      <th>occupation</th>\n",
       "      <th>memberof</th>\n",
       "    </tr>\n",
       "  </thead>\n",
       "  <tbody>\n",
       "    <tr>\n",
       "      <th>0</th>\n",
       "      <td>no</td>\n",
       "      <td>yes</td>\n",
       "      <td>yes</td>\n",
       "      <td>yes</td>\n",
       "      <td>yes</td>\n",
       "      <td>yes</td>\n",
       "      <td>yes</td>\n",
       "      <td>yes</td>\n",
       "      <td>yes</td>\n",
       "      <td>yes</td>\n",
       "      <td>yes</td>\n",
       "    </tr>\n",
       "  </tbody>\n",
       "</table>\n",
       "</div>"
      ],
      "text/plain": [
       "  char charname birthname types universes birthplace superpowers religions  \\\n",
       "0   no      yes       yes   yes       yes        yes         yes       yes   \n",
       "\n",
       "  gender occupation memberof  \n",
       "0    yes        yes      yes  "
      ]
     },
     "execution_count": 53,
     "metadata": {},
     "output_type": "execute_result"
    }
   ],
   "source": [
    "col_dup_check(df)"
   ]
  },
  {
   "cell_type": "markdown",
   "metadata": {},
   "source": [
    "I figured most columns would have duplicates within themselves, but I now know for sure that the 'char' column is the main reason why I **may** not be getting duplicates. From my understanding, the 'char' columns is a hyperlink to each characters wiki page. Lets see what happends if I run duplicated() again but without the char column. Since the columns birthplace, religions. gender, occupation, and memberof only provide six non null values out of 137, I will also remove them from the query."
   ]
  },
  {
   "cell_type": "code",
   "execution_count": 62,
   "metadata": {},
   "outputs": [
    {
     "data": {
      "text/plain": [
       "False"
      ]
     },
     "execution_count": 62,
     "metadata": {},
     "output_type": "execute_result"
    }
   ],
   "source": [
    "kept_col = ['charname','birthname','types','universes','superpowers']\n",
    "\n",
    "df[kept_col].duplicated().any()"
   ]
  },
  {
   "cell_type": "markdown",
   "metadata": {},
   "source": [
    "Great! Now lets create a copy of this dataframe and start taking a look at the superpowers column."
   ]
  },
  {
   "cell_type": "code",
   "execution_count": 12,
   "metadata": {},
   "outputs": [
    {
     "data": {
      "text/plain": [
       "index\n",
       "0      superhuman agility / reflexes, superhuman dura...\n",
       "1      flight, shapeshifting, superhuman strength, re...\n",
       "2      superhuman durability, superhuman speed, super...\n",
       "3                                 thermo-chemical energy\n",
       "4                                           sonic scream\n",
       "                             ...                        \n",
       "132    superhuman agility / reflexes, superhuman dura...\n",
       "133                                          pyrokinesis\n",
       "134                                           elasticity\n",
       "135    superhuman durability, superhuman speed, super...\n",
       "136                                          cryokinesis\n",
       "Name: superpowers, Length: 137, dtype: object"
      ]
     },
     "execution_count": 12,
     "metadata": {},
     "output_type": "execute_result"
    }
   ],
   "source": [
    "df.superpowers"
   ]
  },
  {
   "cell_type": "code",
   "execution_count": 23,
   "metadata": {},
   "outputs": [
    {
     "name": "stdout",
     "output_type": "stream",
     "text": [
      "4\n"
     ]
    }
   ],
   "source": [
    "powers = []\n",
    "copy_superpowers = df.superpowers.copy()\n",
    "\n",
    "for i in copy_superpowers:\n",
    "    powers.append(i.split(', '))\n",
    "\n",
    "print(len(powers[0]))\n",
    "    "
   ]
  },
  {
   "cell_type": "code",
   "execution_count": 26,
   "metadata": {},
   "outputs": [],
   "source": [
    "kept_col = ['char','charname','birthname','types','universes','superpowers']\n",
    "\n",
    "working_df = df[kept_col].copy()"
   ]
  },
  {
   "cell_type": "code",
   "execution_count": null,
   "metadata": {},
   "outputs": [],
   "source": []
  }
 ],
 "metadata": {
  "interpreter": {
   "hash": "43888b9615e5a942a9af5481cd30aac8105f76efd45b55fbfbf797d01f16ce90"
  },
  "kernelspec": {
   "display_name": "Python 3.9.12 ('marvel')",
   "language": "python",
   "name": "python3"
  },
  "language_info": {
   "codemirror_mode": {
    "name": "ipython",
    "version": 3
   },
   "file_extension": ".py",
   "mimetype": "text/x-python",
   "name": "python",
   "nbconvert_exporter": "python",
   "pygments_lexer": "ipython3",
   "version": "3.9.12"
  },
  "orig_nbformat": 4
 },
 "nbformat": 4,
 "nbformat_minor": 2
}
